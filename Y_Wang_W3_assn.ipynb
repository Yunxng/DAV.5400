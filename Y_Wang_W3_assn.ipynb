{
 "cells": [
  {
   "cell_type": "code",
   "execution_count": 24,
   "metadata": {},
   "outputs": [
    {
     "name": "stdout",
     "output_type": "stream",
     "text": [
      "[6, 16, 20, 23, 26, 29]\n"
     ]
    }
   ],
   "source": [
    "#Task1\n",
    "import csv\n",
    "# be sure to update the path below to reflect your own environment!!\n",
    "# also be sure that the code is properly indented after you paste it!\n",
    "\n",
    "Price=[]\n",
    "#Create new blank list\n",
    "\n",
    "with open('/Users/wangyunxiang/Desktop/cars-sample35.txt') as csvfile:\n",
    "    readCSV = csv.reader(csvfile)\n",
    "    for row in readCSV:\n",
    "        Price.append(row[0])\n",
    "    print([i for i, x in enumerate(Price) if x=='med'])"
   ]
  },
  {
   "cell_type": "code",
   "execution_count": 23,
   "metadata": {},
   "outputs": [
    {
     "name": "stdout",
     "output_type": "stream",
     "text": [
      "['more', '2', '2', '2', '4', '2']\n"
     ]
    }
   ],
   "source": [
    "#Task2\n",
    "import csv\n",
    "# be sure to update the path below to reflect your own environment!!\n",
    "# also be sure that the code is properly indented after you paste it!\n",
    "\n",
    "Price=[]\n",
    "Number=[]\n",
    "#Create new blank list\n",
    "\n",
    "with open('/Users/wangyunxiang/Desktop/cars-sample35.txt') as csvfile:\n",
    "    readCSV = csv.reader(csvfile)\n",
    "    for row in readCSV:\n",
    "        Price.append(row[0])\n",
    "        Number.append(row[3])\n",
    "    print([Number[i] for i, x in enumerate(Price) if x=='med'])"
   ]
  },
  {
   "cell_type": "code",
   "execution_count": 35,
   "metadata": {},
   "outputs": [
    {
     "name": "stdout",
     "output_type": "stream",
     "text": [
      "[0, 1, 2, 27, 31]\n"
     ]
    }
   ],
   "source": [
    "#Task3\n",
    "import csv\n",
    "# be sure to update the path below to reflect your own environment!!\n",
    "# also be sure that the code is properly indented after you paste it!\n",
    "\n",
    "Price=[]\n",
    "Maincost=[]\n",
    "#Create new blank list\n",
    "\n",
    "with open('/Users/wangyunxiang/Desktop/cars-sample35.txt') as csvfile:\n",
    "    readCSV = csv.reader(csvfile)\n",
    "    for row in readCSV:\n",
    "        Price.append(row[0])\n",
    "        Maincost.append(row[1])\n",
    "    print([i for i, x in enumerate(Price) if x=='high' and Maincost[i]!='low' ])"
   ]
  },
  {
   "cell_type": "code",
   "execution_count": 53,
   "metadata": {},
   "outputs": [
    {
     "name": "stdout",
     "output_type": "stream",
     "text": [
      "[1, 2, 3, 'A', 'B', 'C', 4, 5, 'D', 'E']\n",
      "[1, 2, 3, 'A', 'B', 'C', 4, 5, 'D', 'E']\n"
     ]
    }
   ],
   "source": [
    "#Task4\n",
    "nlist=[[1,2,3],['A','B','C'],[4,5],['D','E']]\n",
    "flist=[]\n",
    "for x in nlist: \n",
    "    for y in x:\n",
    "        flist.append(y) \n",
    "print(flist)\n",
    "\n",
    "#now apply list comprehension to the flist above\n",
    "nlist=[[1,2,3],['A','B','C'],[4,5],['D','E']]\n",
    "flist=[y for x in nlist\n",
    "                 for y in x]\n",
    "print(flist)"
   ]
  },
  {
   "cell_type": "code",
   "execution_count": 71,
   "metadata": {},
   "outputs": [
    {
     "name": "stdout",
     "output_type": "stream",
     "text": [
      "{'A0': 'high', 'A1': 'high', 'A2': 'high', 'A3': 'high', 'A4': 'vhigh', 'A5': 'low', 'A6': 'med'}\n",
      "{'A0': 'med', 'A1': 'small', 'A2': 'big', 'A3': 'big', 'A4': 'med', 'A5': 'small', 'A6': 'med'}\n"
     ]
    }
   ],
   "source": [
    "#Task5\n",
    "#Task1\n",
    "import csv\n",
    "# be sure to update the path below to reflect your own environment!!\n",
    "# also be sure that the code is properly indented after you paste it!\n",
    "\n",
    "Price=[]\n",
    "LuggageCapacity=[]\n",
    "#Create new blank list\n",
    "\n",
    "\n",
    "\n",
    "with open('/Users/wangyunxiang/Desktop/cars-sample35.txt') as csvfile:\n",
    "    readCSV = csv.reader(csvfile)\n",
    "    for row in readCSV:\n",
    "        Price=Price+[row[0]]\n",
    "        LuggageCapacity=LuggageCapacity+[row[4]]\n",
    "        #assign the corresponding value to the new created list\n",
    "    \n",
    "def makedict(mylist,x):\n",
    "    newdict={'A'+str(i):mylist[i] for i in range(0,x)}      \n",
    "    return(newdict)\n",
    "\n",
    "print(makedict(Price,7))\n",
    "\n",
    "print(makedict(LuggageCapacity,7))"
   ]
  },
  {
   "cell_type": "code",
   "execution_count": null,
   "metadata": {},
   "outputs": [],
   "source": []
  }
 ],
 "metadata": {
  "kernelspec": {
   "display_name": "Python 3",
   "language": "python",
   "name": "python3"
  },
  "language_info": {
   "codemirror_mode": {
    "name": "ipython",
    "version": 3
   },
   "file_extension": ".py",
   "mimetype": "text/x-python",
   "name": "python",
   "nbconvert_exporter": "python",
   "pygments_lexer": "ipython3",
   "version": "3.7.1"
  }
 },
 "nbformat": 4,
 "nbformat_minor": 2
}
