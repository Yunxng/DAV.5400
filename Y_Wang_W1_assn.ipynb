{
 "cells": [
  {
   "cell_type": "markdown",
   "metadata": {},
   "source": [
    "the web link is following:\n",
    "https://projects.fivethirtyeight.com/nba-model/nba_elo.csv\n",
    "The location link is following\n",
    "/Users/wangyunxiang/Desktop/DAV.5400/nba-carmelo"
   ]
  },
  {
   "cell_type": "markdown",
   "metadata": {},
   "source": [
    "I am interested in data analysis. In this course, I would like to study data structure and use Python to deal with complex mathematical statistics problems. The data I downloaded is about NBA forecasts, which is also a way to combine big data forecasts. I will learn how to use it to get results in future study."
   ]
  }
 ],
 "metadata": {
  "kernelspec": {
   "display_name": "Python 3",
   "language": "python",
   "name": "python3"
  },
  "language_info": {
   "codemirror_mode": {
    "name": "ipython",
    "version": 3
   },
   "file_extension": ".py",
   "mimetype": "text/x-python",
   "name": "python",
   "nbconvert_exporter": "python",
   "pygments_lexer": "ipython3",
   "version": "3.7.1"
  }
 },
 "nbformat": 4,
 "nbformat_minor": 2
}
