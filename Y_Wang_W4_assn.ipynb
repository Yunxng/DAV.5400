{
 "cells": [
  {
   "cell_type": "code",
   "execution_count": 99,
   "metadata": {},
   "outputs": [
    {
     "data": {
      "text/plain": [
       "array([2, 4])"
      ]
     },
     "execution_count": 99,
     "metadata": {},
     "output_type": "execute_result"
    }
   ],
   "source": [
    "#Task1\n",
    "import numpy as np\n",
    "# be sure to update the path below to reflect your own environment!!\n",
    "# also be sure that the code is properly indented after you paste it!\n",
    "\n",
    "a = np.array([1, 2, 3, 2, 3, 4, 3, 4, 5, 6])\n",
    "b = np.array([7, 2, 10, 2, 7, 4, 9, 4, 9, 8])\n",
    "#input a and b as arrays\n",
    "np.intersect1d(a,b)\n",
    "#compute the common elements between a and b\n"
   ]
  },
  {
   "cell_type": "code",
   "execution_count": 100,
   "metadata": {},
   "outputs": [
    {
     "data": {
      "text/plain": [
       "array([[ 1,  6, 11],\n",
       "       [ 2,  7, 12],\n",
       "       [ 3,  8, 13],\n",
       "       [ 4,  9, 14],\n",
       "       [ 5, 10, 15]])"
      ]
     },
     "execution_count": 100,
     "metadata": {},
     "output_type": "execute_result"
    }
   ],
   "source": [
    "#Task2 \n",
    "np.arange(1,16).reshape(3,5).T\n",
    "#creat an array from 1 to 16\n",
    "#the array should be 3*5,then transpose"
   ]
  },
  {
   "cell_type": "code",
   "execution_count": 101,
   "metadata": {},
   "outputs": [
    {
     "data": {
      "text/plain": [
       "(array([12,  7, 15,  3,  1,  8]), array([14,  3, 11, 19, 12,  5]))"
      ]
     },
     "execution_count": 101,
     "metadata": {},
     "output_type": "execute_result"
    }
   ],
   "source": [
    "#Task3\n",
    "a = np.array([12, 5, 7, 15, 3, 1, 8])\n",
    "b = np.array([14, 6, 3, 11, 19, 12, 5])\n",
    "#input a and b\n",
    "def Remove(x):#define a function that remove same items in a and b\n",
    "    if x<7:\n",
    "        c=np.delete(a,x,0)\n",
    "        d=np.delete(b,x,0)\n",
    "        #remove same items in a and b\n",
    "        return c,d  \n",
    "Remove(1)#use function to remove an items in a and it also same to b"
   ]
  },
  {
   "cell_type": "code",
   "execution_count": 102,
   "metadata": {},
   "outputs": [
    {
     "data": {
      "text/plain": [
       "array([   2,   33,   78,  130,  167,  176,  192,  192,  270,  310,  429,\n",
       "        440,  495,  516,  516,  725,  740,  840,  854,  889, 1083, 1083,\n",
       "       1094, 1126, 1246, 1254, 1307, 1307, 1307, 1417, 1419, 1436, 1455,\n",
       "       1503, 1555])"
      ]
     },
     "execution_count": 102,
     "metadata": {},
     "output_type": "execute_result"
    }
   ],
   "source": [
    "#Task4\n",
    "record=np.random.randint(1,1555,35)\n",
    "#generate a series of integer numbers from 1 to 1555\n",
    "#assume the total miles from NYC to FL is 1555\n",
    "record=np.sort(record)\n",
    "#sort the numbers such that it has order\n",
    "record[7]=record[6]\n",
    "record[14]=record[13]\n",
    "record[21]=record[20]\n",
    "record[28]=record[27]\n",
    "#make sure that we have at least 4 days non-consecutive\n",
    "record[34]=1555\n",
    "#make sure the total mile is 1555\n",
    "record"
   ]
  },
  {
   "cell_type": "code",
   "execution_count": 103,
   "metadata": {},
   "outputs": [
    {
     "name": "stderr",
     "output_type": "stream",
     "text": [
      "/anaconda3/lib/python3.7/site-packages/ipykernel_launcher.py:9: FutureWarning: Method .as_matrix will be removed in a future version. Use .values instead.\n",
      "  if __name__ == '__main__':\n"
     ]
    },
    {
     "data": {
      "text/plain": [
       "numpy.ndarray"
      ]
     },
     "execution_count": 103,
     "metadata": {},
     "output_type": "execute_result"
    }
   ],
   "source": [
    "#Task 5\n",
    "import pandas\n",
    "import numpy as np\n",
    "\n",
    "# supress scientific notation\n",
    "np.set_printoptions(suppress = True)\n",
    "\n",
    "# read the data file from GitHub and convert to a NumPy ndarray object\n",
    "nyc_water = pandas.read_csv('https://raw.githubusercontent.com/jtopor/DAV-5400/master/Week4/Water_Consumption_In_The_New_York_City.csv').as_matrix()\n",
    "\n",
    "# verify you have an ndarray object\n",
    "type(nyc_water)"
   ]
  },
  {
   "cell_type": "code",
   "execution_count": 104,
   "metadata": {},
   "outputs": [
    {
     "data": {
      "text/plain": [
       "1512.0"
      ]
     },
     "execution_count": 104,
     "metadata": {},
     "output_type": "execute_result"
    }
   ],
   "source": [
    "#Question1 of task5 \n",
    "np.max(nyc_water[:,2:3])\n",
    "#get the maximum of consumption of water (max of 2nd column)"
   ]
  },
  {
   "cell_type": "code",
   "execution_count": 105,
   "metadata": {},
   "outputs": [
    {
     "name": "stdout",
     "output_type": "stream",
     "text": [
      "(39, 4)\n"
     ]
    }
   ],
   "source": [
    "#Question2 of task5 \n",
    "print(nyc_water.shape)\n",
    "#print the numbers of year which is the numbers of row"
   ]
  },
  {
   "cell_type": "code",
   "execution_count": 106,
   "metadata": {},
   "outputs": [
    {
     "name": "stdout",
     "output_type": "stream",
     "text": [
      "160.30769230769232\n",
      "31.51894330370624\n"
     ]
    }
   ],
   "source": [
    "#Question3 of task5 \n",
    "print(np.mean(nyc_water[:,3:4]))\n",
    "#get the mean value of capita daily water consumption (mean value of 3rd column)\n",
    "print(np.std(nyc_water[:,3:4]))\n",
    "#get the deviation of capita daily water consumption (deviation of 3rd column)"
   ]
  },
  {
   "cell_type": "code",
   "execution_count": 107,
   "metadata": {},
   "outputs": [
    {
     "name": "stdout",
     "output_type": "stream",
     "text": [
      "pop_diff: [[-30461.   17602.   19864.   72119.   53290.   39540.   45192.   23230.\n",
      "   11243.   -9544.   -8525.   38851.   54443.   77222.   64292.   62582.\n",
      "   64772.   75631.   84816.   89401.   60618.   16685.5  16685.5  16685.5\n",
      "   16685.5  16685.5  16685.5  16685.5  16685.5  16685.5  16685.5 108965.\n",
      "   77081.   61281.   49530.   44512.   21171.   85025. ]]\n"
     ]
    }
   ],
   "source": [
    "#Question4 of task5 \n",
    "print('pop_diff:',np.diff(nyc_water[:,1:2].T,axis=1))\n",
    "#use diff function to get the difference between adjacent two years of 1st column\n",
    "#save as pop_diff variables"
   ]
  },
  {
   "cell_type": "code",
   "execution_count": null,
   "metadata": {},
   "outputs": [],
   "source": []
  },
  {
   "cell_type": "code",
   "execution_count": null,
   "metadata": {},
   "outputs": [],
   "source": []
  }
 ],
 "metadata": {
  "kernelspec": {
   "display_name": "Python 3",
   "language": "python",
   "name": "python3"
  },
  "language_info": {
   "codemirror_mode": {
    "name": "ipython",
    "version": 3
   },
   "file_extension": ".py",
   "mimetype": "text/x-python",
   "name": "python",
   "nbconvert_exporter": "python",
   "pygments_lexer": "ipython3",
   "version": "3.7.1"
  }
 },
 "nbformat": 4,
 "nbformat_minor": 2
}
