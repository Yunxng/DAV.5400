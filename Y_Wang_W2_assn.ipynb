{
 "cells": [
  {
   "cell_type": "code",
   "execution_count": null,
   "metadata": {},
   "outputs": [],
   "source": [
    "#Task1\n",
    "import csv\n",
    "# be sure to update the path below to reflect your own environment!!\n",
    "# also be sure that the code is properly indented after you paste it!\n",
    "\n",
    "Price=MaintenanceCost=NumberOfDoors=NumberOfPassengers=[]\n",
    "LuggageCapacity=SafetyRating=ClassificationOfVehicle=[]\n",
    "#Create new blank list\n",
    "\n",
    "with open('/Users/wangyunxiang/Desktop/cars-sample35.txt') as csvfile:\n",
    "    readCSV = csv.reader(csvfile)\n",
    "    for row in readCSV:\n",
    "        Price=Price+[row[0]]\n",
    "        MaintenanceCost=MaintenanceCost+[row[1]]\n",
    "        NumberOfDoors=NumberOfDoors+[row[2]]\n",
    "        NumberOfPassengers=NumberOfPassengers+[row[3]]\n",
    "        LuggageCapacity=LuggageCapacity+[row[4]]\n",
    "        SafetyRating=SafetyRating+[row[5]]\n",
    "        ClassificationOfVehicle=ClassificationOfVehicle+[row[6]]\n",
    "        #assign the corresponding value to the new created list\n",
    "    print(Price)\n",
    "    \n",
    "    print(MaintenanceCost)\n",
    "    \n",
    "    print(NumberOfDoors)\n",
    "    \n",
    "    print(NumberOfPassengers)\n",
    "    \n",
    "    print(LuggageCapacity)\n",
    "    \n",
    "    print(SafetyRating)\n",
    "    \n",
    "    print(ClassificationOfVehicle)"
   ]
  },
  {
   "cell_type": "code",
   "execution_count": 16,
   "metadata": {},
   "outputs": [
    {
     "name": "stdout",
     "output_type": "stream",
     "text": [
      "[7, 17, 21, 24, 27, 30]\n"
     ]
    }
   ],
   "source": [
    "#Task2\n",
    "import csv\n",
    "# be sure to update the path below to reflect your own environment!!\n",
    "# also be sure that the code is properly indented after you paste it!\n",
    "Price=MaintenanceCost=NumberOfDoors=NumberOfPassengers=[]\n",
    "LuggageCapacity=SafetyRating=ClassificationOfVehicle=[]\n",
    "with open('/Users/wangyunxiang/Desktop/cars-sample35.txt') as csvfile:\n",
    "    readCSV = csv.reader(csvfile)\n",
    "    for row in readCSV:\n",
    "        Price=Price+[row[0]]\n",
    "\n",
    "PriceMedIndex=[]\n",
    "#Create a new list to print the med price automobile index\n",
    "for i in range(0,len(Price)):\n",
    "    if Price[i]=='med':\n",
    "        PriceMedIndex=PriceMedIndex+[i+1]\n",
    "        #judge whether the index should be put into the list\n",
    "\n",
    "print(PriceMedIndex)\n"
   ]
  },
  {
   "cell_type": "code",
   "execution_count": 7,
   "metadata": {},
   "outputs": [
    {
     "name": "stdout",
     "output_type": "stream",
     "text": [
      "[7, 17, 21, 24, 27, 30]\n",
      "['more', '2', '2', '2', '4', '2']\n"
     ]
    }
   ],
   "source": [
    "#Task3\n",
    "import csv\n",
    "# be sure to update the path below to reflect your own environment!!\n",
    "# also be sure that the code is properly indented after you paste it!\n",
    "Price=MaintenanceCost=NumberOfDoors=NumberOfPassengers=[]\n",
    "LuggageCapacity=SafetyRating=ClassificationOfVehicle=[]\n",
    "with open('/Users/wangyunxiang/Desktop/cars-sample35.txt') as csvfile:\n",
    "    readCSV = csv.reader(csvfile)\n",
    "    for row in readCSV:\n",
    "        Price=Price+[row[0]]\n",
    "        NumberOfPassengers=NumberOfPassengers+[row[3]]\n",
    "\n",
    "PriceMedIndex=[]\n",
    "MedNumberOfPassengers=[]\n",
    "#Create a new list to print the med price automobile index\n",
    "for i in range(0,len(Price)):\n",
    "    if Price[i]=='med':\n",
    "        PriceMedIndex=PriceMedIndex+[i+1]\n",
    "        MedNumberOfPassengers=MedNumberOfPassengers+[NumberOfPassengers[i]]\n",
    "\n",
    "print(PriceMedIndex)\n",
    "print(MedNumberOfPassengers)\n"
   ]
  },
  {
   "cell_type": "code",
   "execution_count": 8,
   "metadata": {},
   "outputs": [
    {
     "name": "stdout",
     "output_type": "stream",
     "text": [
      "[1, 2, 3, 28, 32]\n"
     ]
    }
   ],
   "source": [
    "#Task4\n",
    "import csv\n",
    "# be sure to update the path below to reflect your own environment!!\n",
    "# also be sure that the code is properly indented after you paste it!\n",
    "Price=MaintenanceCost=NumberOfDoors=NumberOfPassengers=[]\n",
    "LuggageCapacity=SafetyRating=ClassificationOfVehicle=[]\n",
    "with open('/Users/wangyunxiang/Desktop/cars-sample35.txt') as csvfile:\n",
    "    readCSV = csv.reader(csvfile)\n",
    "    for row in readCSV:\n",
    "        Price=Price+[row[0]]\n",
    "        MaintenanceCost=MaintenanceCost+[row[1]]\n",
    "        \n",
    "PriceHighIndex=[]\n",
    "#Create a new list to print the high price automobile index\n",
    "for i in range(0,len(Price)):\n",
    "    if Price[i]=='high' and MaintenanceCost[i]!='low':\n",
    "        PriceHighIndex=PriceHighIndex+[i+1]\n",
    "\n",
    "print(PriceHighIndex)\n"
   ]
  },
  {
   "cell_type": "code",
   "execution_count": 9,
   "metadata": {},
   "outputs": [
    {
     "name": "stdout",
     "output_type": "stream",
     "text": [
      "[4, 13, 20, 24]\n"
     ]
    }
   ],
   "source": [
    "#Task5\n",
    "import csv\n",
    "# be sure to update the path below to reflect your own environment!!\n",
    "# also be sure that the code is properly indented after you paste it!\n",
    "Price=MaintenanceCost=NumberOfDoors=NumberOfPassengers=[]\n",
    "LuggageCapacity=SafetyRating=ClassificationOfVehicle=[]\n",
    "with open('/Users/wangyunxiang/Desktop/cars-sample35.txt') as csvfile:\n",
    "    readCSV = csv.reader(csvfile)\n",
    "    for row in readCSV:\n",
    "        NumberOfDoors=NumberOfDoors+[row[2]]\n",
    "        LuggageCapacity=LuggageCapacity+[row[4]]\n",
    "        \n",
    "SortIndex=[]\n",
    "#Create a new list to print sorted index\n",
    "for i in range(0,len(NumberOfDoors)):\n",
    "    if NumberOfDoors[i]=='2' and LuggageCapacity[i]=='big':\n",
    "        SortIndex=SortIndex+[i+1]\n",
    "\n",
    "print(SortIndex)"
   ]
  },
  {
   "cell_type": "code",
   "execution_count": 2,
   "metadata": {},
   "outputs": [
    {
     "name": "stdout",
     "output_type": "stream",
     "text": [
      "List after \n",
      "[2, 4, 4, 2, 3, 2, 4, 3, 2, 4, 2, 4, 2, 3, 5, 2, 2, 5, 3, 2, 4, 2, 5, 2, 4, 3, 3, 3, 5, 5, 3, 5, 5, 4, 3]\n",
      "Average number of doors\n",
      "3.3142857142857145\n"
     ]
    }
   ],
   "source": [
    "#Task6\n",
    "import csv\n",
    "\n",
    "Price=MaintenanceCost=NumberOfDoors=NumberOfPassengers=[]\n",
    "LuggageCapacity=SafetyRating=ClassificationOfVehicle=[]\n",
    "with open('/Users/wangyunxiang/Desktop/cars-sample35.txt') as csvfile:\n",
    "    readCSV = csv.reader(csvfile)\n",
    "    for row in readCSV:\n",
    "        NumberOfDoors=NumberOfDoors+[row[2]]\n",
    "        \n",
    "IntNumOfDoors=[]\n",
    "\n",
    "for i in range(0,len(NumberOfDoors)):\n",
    "    if NumberOfDoors[i]!='5more':\n",
    "        IntNumOfDoors=IntNumOfDoors+[int(NumberOfDoors[i])]\n",
    "    else:\n",
    "        IntNumOfDoors=IntNumOfDoors+[5]\n",
    "\n",
    "print(\"List after \")\n",
    "\n",
    "print(IntNumOfDoors)\n",
    "\n",
    "print(\"Average number of doors\")\n",
    "\n",
    "AvgDoorNum=sum(IntNumOfDoors)/len(IntNumOfDoors)\n",
    "\n",
    "print(AvgDoorNum)\n"
   ]
  },
  {
   "cell_type": "code",
   "execution_count": null,
   "metadata": {},
   "outputs": [],
   "source": []
  }
 ],
 "metadata": {
  "kernelspec": {
   "display_name": "Python 3",
   "language": "python",
   "name": "python3"
  },
  "language_info": {
   "codemirror_mode": {
    "name": "ipython",
    "version": 3
   },
   "file_extension": ".py",
   "mimetype": "text/x-python",
   "name": "python",
   "nbconvert_exporter": "python",
   "pygments_lexer": "ipython3",
   "version": "3.7.1"
  }
 },
 "nbformat": 4,
 "nbformat_minor": 2
}
