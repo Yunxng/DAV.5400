{
 "cells": [
  {
   "cell_type": "code",
   "execution_count": 153,
   "metadata": {},
   "outputs": [],
   "source": [
    "# load the pandas + numpy libraries\n",
    "import pandas as pd\n",
    "import numpy as np\n",
    "\n",
    "from pandas import Series, DataFrame\n",
    "\n",
    "# load the pyplot function from the matplotlib library and seaborn\n",
    "import matplotlib.pyplot as plt\n",
    "import seaborn as sns\n",
    "\n",
    "# import statsmodels\n",
    "import statsmodels.api as sm\n",
    "import statsmodels.formula.api as smf\n",
    "\n"
   ]
  },
  {
   "cell_type": "code",
   "execution_count": 154,
   "metadata": {},
   "outputs": [
    {
     "data": {
      "text/html": [
       "<div>\n",
       "<style scoped>\n",
       "    .dataframe tbody tr th:only-of-type {\n",
       "        vertical-align: middle;\n",
       "    }\n",
       "\n",
       "    .dataframe tbody tr th {\n",
       "        vertical-align: top;\n",
       "    }\n",
       "\n",
       "    .dataframe thead th {\n",
       "        text-align: right;\n",
       "    }\n",
       "</style>\n",
       "<table border=\"1\" class=\"dataframe\">\n",
       "  <thead>\n",
       "    <tr style=\"text-align: right;\">\n",
       "      <th></th>\n",
       "      <th>0</th>\n",
       "      <th>1</th>\n",
       "      <th>2</th>\n",
       "      <th>3</th>\n",
       "      <th>4</th>\n",
       "      <th>5</th>\n",
       "      <th>6</th>\n",
       "      <th>7</th>\n",
       "      <th>8</th>\n",
       "      <th>9</th>\n",
       "      <th>...</th>\n",
       "      <th>13</th>\n",
       "      <th>14</th>\n",
       "      <th>15</th>\n",
       "      <th>16</th>\n",
       "      <th>17</th>\n",
       "      <th>18</th>\n",
       "      <th>19</th>\n",
       "      <th>20</th>\n",
       "      <th>21</th>\n",
       "      <th>22</th>\n",
       "    </tr>\n",
       "  </thead>\n",
       "  <tbody>\n",
       "    <tr>\n",
       "      <th>0</th>\n",
       "      <td>p</td>\n",
       "      <td>x</td>\n",
       "      <td>s</td>\n",
       "      <td>n</td>\n",
       "      <td>t</td>\n",
       "      <td>p</td>\n",
       "      <td>f</td>\n",
       "      <td>c</td>\n",
       "      <td>n</td>\n",
       "      <td>k</td>\n",
       "      <td>...</td>\n",
       "      <td>s</td>\n",
       "      <td>w</td>\n",
       "      <td>w</td>\n",
       "      <td>p</td>\n",
       "      <td>w</td>\n",
       "      <td>o</td>\n",
       "      <td>p</td>\n",
       "      <td>k</td>\n",
       "      <td>s</td>\n",
       "      <td>u</td>\n",
       "    </tr>\n",
       "    <tr>\n",
       "      <th>1</th>\n",
       "      <td>e</td>\n",
       "      <td>x</td>\n",
       "      <td>s</td>\n",
       "      <td>y</td>\n",
       "      <td>t</td>\n",
       "      <td>a</td>\n",
       "      <td>f</td>\n",
       "      <td>c</td>\n",
       "      <td>b</td>\n",
       "      <td>k</td>\n",
       "      <td>...</td>\n",
       "      <td>s</td>\n",
       "      <td>w</td>\n",
       "      <td>w</td>\n",
       "      <td>p</td>\n",
       "      <td>w</td>\n",
       "      <td>o</td>\n",
       "      <td>p</td>\n",
       "      <td>n</td>\n",
       "      <td>n</td>\n",
       "      <td>g</td>\n",
       "    </tr>\n",
       "    <tr>\n",
       "      <th>2</th>\n",
       "      <td>e</td>\n",
       "      <td>b</td>\n",
       "      <td>s</td>\n",
       "      <td>w</td>\n",
       "      <td>t</td>\n",
       "      <td>l</td>\n",
       "      <td>f</td>\n",
       "      <td>c</td>\n",
       "      <td>b</td>\n",
       "      <td>n</td>\n",
       "      <td>...</td>\n",
       "      <td>s</td>\n",
       "      <td>w</td>\n",
       "      <td>w</td>\n",
       "      <td>p</td>\n",
       "      <td>w</td>\n",
       "      <td>o</td>\n",
       "      <td>p</td>\n",
       "      <td>n</td>\n",
       "      <td>n</td>\n",
       "      <td>m</td>\n",
       "    </tr>\n",
       "    <tr>\n",
       "      <th>3</th>\n",
       "      <td>p</td>\n",
       "      <td>x</td>\n",
       "      <td>y</td>\n",
       "      <td>w</td>\n",
       "      <td>t</td>\n",
       "      <td>p</td>\n",
       "      <td>f</td>\n",
       "      <td>c</td>\n",
       "      <td>n</td>\n",
       "      <td>n</td>\n",
       "      <td>...</td>\n",
       "      <td>s</td>\n",
       "      <td>w</td>\n",
       "      <td>w</td>\n",
       "      <td>p</td>\n",
       "      <td>w</td>\n",
       "      <td>o</td>\n",
       "      <td>p</td>\n",
       "      <td>k</td>\n",
       "      <td>s</td>\n",
       "      <td>u</td>\n",
       "    </tr>\n",
       "    <tr>\n",
       "      <th>4</th>\n",
       "      <td>e</td>\n",
       "      <td>x</td>\n",
       "      <td>s</td>\n",
       "      <td>g</td>\n",
       "      <td>f</td>\n",
       "      <td>n</td>\n",
       "      <td>f</td>\n",
       "      <td>w</td>\n",
       "      <td>b</td>\n",
       "      <td>k</td>\n",
       "      <td>...</td>\n",
       "      <td>s</td>\n",
       "      <td>w</td>\n",
       "      <td>w</td>\n",
       "      <td>p</td>\n",
       "      <td>w</td>\n",
       "      <td>o</td>\n",
       "      <td>e</td>\n",
       "      <td>n</td>\n",
       "      <td>a</td>\n",
       "      <td>g</td>\n",
       "    </tr>\n",
       "  </tbody>\n",
       "</table>\n",
       "<p>5 rows × 23 columns</p>\n",
       "</div>"
      ],
      "text/plain": [
       "  0  1  2  3  4  5  6  7  8  9  ... 13 14 15 16 17 18 19 20 21 22\n",
       "0  p  x  s  n  t  p  f  c  n  k ...  s  w  w  p  w  o  p  k  s  u\n",
       "1  e  x  s  y  t  a  f  c  b  k ...  s  w  w  p  w  o  p  n  n  g\n",
       "2  e  b  s  w  t  l  f  c  b  n ...  s  w  w  p  w  o  p  n  n  m\n",
       "3  p  x  y  w  t  p  f  c  n  n ...  s  w  w  p  w  o  p  k  s  u\n",
       "4  e  x  s  g  f  n  f  w  b  k ...  s  w  w  p  w  o  e  n  a  g\n",
       "\n",
       "[5 rows x 23 columns]"
      ]
     },
     "execution_count": 154,
     "metadata": {},
     "output_type": "execute_result"
    }
   ],
   "source": [
    "# load the data set\n",
    "data = pd.read_csv(\"https://archive.ics.uci.edu/ml/machine-learning-databases/mushroom/agaricus-lepiota.data\", header = None)\n",
    "data.head()"
   ]
  },
  {
   "cell_type": "markdown",
   "metadata": {},
   "source": [
    "## Description of Variables\n",
    "\n",
    "Attribute Information: \n",
    "\n",
    "-__0. classes__:                  edible=e, poisonous=p \n",
    "\n",
    "-__1. cap-shape__:                bell=b,conical=c,convex=x,flat=f,\n",
    "                                  knobbed=k,sunken=s\n",
    "                                  \n",
    "-__2. cap-surface__:              fibrous=f,grooves=g,scaly=y,smooth=s\n",
    "\n",
    "-__3. cap-color__:                brown=n,buff=b,cinnamon=c,gray=g,green=r,\n",
    "                                  pink=p,purple=u,red=e,white=w,yellow=y\n",
    "                                  \n",
    "-__4. bruises?__:                 bruises=t,no=f\n",
    "\n",
    "-__5. odor__:                     almond=a,anise=l,creosote=c,fishy=y,foul=f,\n",
    "                                  musty=m,none=n,pungent=p,spicy=s\n",
    "                                  \n",
    "-__6. gill-attachment__:          attached=a,descending=d,free=f,notched=n\n",
    "\n",
    "-__7. gill-spacing__:             close=c,crowded=w,distant=d\n",
    "\n",
    "-__8. gill-size__:                broad=b,narrow=n\n",
    "\n",
    "-__9. gill-color__:               black=k,brown=n,buff=b,chocolate=h,gray=g,\n",
    "                                  green=r,orange=o,pink=p,purple=u,red=e,\n",
    "                                  white=w,yellow=y\n",
    "                                  \n",
    "-__10. stalk-shape__:              enlarging=e,tapering=t\n",
    "\n",
    "-__11. stalk-root__:               bulbous=b,club=c,cup=u,equal=e,\n",
    "                                  rhizomorphs=z,rooted=r,missing=?\n",
    "                                  \n",
    "-__12. stalk-surface-above-ring__: fibrous=f,scaly=y,silky=k,smooth=s\n",
    "\n",
    "-__13. stalk-surface-below-ring__: fibrous=f,scaly=y,silky=k,smooth=s\n",
    "\n",
    "-__14. stalk-color-above-ring__:   brown=n,buff=b,cinnamon=c,gray=g,orange=o,\n",
    "                                  pink=p,red=e,white=w,yellow=y\n",
    "                                  \n",
    "-__15. stalk-color-below-ring__:   brown=n,buff=b,cinnamon=c,gray=g,orange=o,\n",
    "                                  pink=p,red=e,white=w,yellow=y\n",
    "                                  \n",
    "-__16. veil-type__:                partial=p,universal=u\n",
    "\n",
    "-__17. veil-color__:               brown=n,orange=o,white=w,yellow=y\n",
    "\n",
    "-__18. ring-number__:              none=n,one=o,two=t\n",
    "\n",
    "-__19. ring-type__:                cobwebby=c,evanescent=e,flaring=f,large=l,\n",
    "                                  none=n,pendant=p,sheathing=s,zone=z\n",
    "                                  \n",
    "-__20. spore-print-color__:        black=k,brown=n,buff=b,chocolate=h,green=r,\n",
    "                                  orange=o,purple=u,white=w,yellow=y\n",
    "                                  \n",
    "-__21. population__:               abundant=a,clustered=c,numerous=n,\n",
    "                                  scattered=s,several=v,solitary=y\n",
    "                                  \n",
    "-__22. habitat__:                  grasses=g,leaves=l,meadows=m,paths=p,\n",
    "                                  urban=u,waste=w,woods=d"
   ]
  },
  {
   "cell_type": "code",
   "execution_count": 155,
   "metadata": {},
   "outputs": [
    {
     "data": {
      "text/plain": [
       "(8124, 23)"
      ]
     },
     "execution_count": 155,
     "metadata": {},
     "output_type": "execute_result"
    }
   ],
   "source": [
    "# how many records in the data set?\n",
    "data.shape"
   ]
  },
  {
   "cell_type": "code",
   "execution_count": 156,
   "metadata": {},
   "outputs": [
    {
     "data": {
      "text/plain": [
       "0     0\n",
       "1     0\n",
       "2     0\n",
       "3     0\n",
       "4     0\n",
       "5     0\n",
       "6     0\n",
       "7     0\n",
       "8     0\n",
       "9     0\n",
       "10    0\n",
       "11    0\n",
       "12    0\n",
       "13    0\n",
       "14    0\n",
       "15    0\n",
       "16    0\n",
       "17    0\n",
       "18    0\n",
       "19    0\n",
       "20    0\n",
       "21    0\n",
       "22    0\n",
       "dtype: int64"
      ]
     },
     "execution_count": 156,
     "metadata": {},
     "output_type": "execute_result"
    }
   ],
   "source": [
    "# check the data for null values\n",
    "data.isnull().sum()"
   ]
  },
  {
   "cell_type": "code",
   "execution_count": 157,
   "metadata": {},
   "outputs": [
    {
     "data": {
      "text/html": [
       "<div>\n",
       "<style scoped>\n",
       "    .dataframe tbody tr th:only-of-type {\n",
       "        vertical-align: middle;\n",
       "    }\n",
       "\n",
       "    .dataframe tbody tr th {\n",
       "        vertical-align: top;\n",
       "    }\n",
       "\n",
       "    .dataframe thead th {\n",
       "        text-align: right;\n",
       "    }\n",
       "</style>\n",
       "<table border=\"1\" class=\"dataframe\">\n",
       "  <thead>\n",
       "    <tr style=\"text-align: right;\">\n",
       "      <th></th>\n",
       "      <th>0</th>\n",
       "      <th>1</th>\n",
       "      <th>2</th>\n",
       "      <th>3</th>\n",
       "      <th>4</th>\n",
       "      <th>5</th>\n",
       "      <th>6</th>\n",
       "      <th>7</th>\n",
       "      <th>8</th>\n",
       "      <th>9</th>\n",
       "      <th>...</th>\n",
       "      <th>13</th>\n",
       "      <th>14</th>\n",
       "      <th>15</th>\n",
       "      <th>16</th>\n",
       "      <th>17</th>\n",
       "      <th>18</th>\n",
       "      <th>19</th>\n",
       "      <th>20</th>\n",
       "      <th>21</th>\n",
       "      <th>22</th>\n",
       "    </tr>\n",
       "  </thead>\n",
       "  <tbody>\n",
       "    <tr>\n",
       "      <th>count</th>\n",
       "      <td>8124</td>\n",
       "      <td>8124</td>\n",
       "      <td>8124</td>\n",
       "      <td>8124</td>\n",
       "      <td>8124</td>\n",
       "      <td>8124</td>\n",
       "      <td>8124</td>\n",
       "      <td>8124</td>\n",
       "      <td>8124</td>\n",
       "      <td>8124</td>\n",
       "      <td>...</td>\n",
       "      <td>8124</td>\n",
       "      <td>8124</td>\n",
       "      <td>8124</td>\n",
       "      <td>8124</td>\n",
       "      <td>8124</td>\n",
       "      <td>8124</td>\n",
       "      <td>8124</td>\n",
       "      <td>8124</td>\n",
       "      <td>8124</td>\n",
       "      <td>8124</td>\n",
       "    </tr>\n",
       "    <tr>\n",
       "      <th>unique</th>\n",
       "      <td>2</td>\n",
       "      <td>6</td>\n",
       "      <td>4</td>\n",
       "      <td>10</td>\n",
       "      <td>2</td>\n",
       "      <td>9</td>\n",
       "      <td>2</td>\n",
       "      <td>2</td>\n",
       "      <td>2</td>\n",
       "      <td>12</td>\n",
       "      <td>...</td>\n",
       "      <td>4</td>\n",
       "      <td>9</td>\n",
       "      <td>9</td>\n",
       "      <td>1</td>\n",
       "      <td>4</td>\n",
       "      <td>3</td>\n",
       "      <td>5</td>\n",
       "      <td>9</td>\n",
       "      <td>6</td>\n",
       "      <td>7</td>\n",
       "    </tr>\n",
       "    <tr>\n",
       "      <th>top</th>\n",
       "      <td>e</td>\n",
       "      <td>x</td>\n",
       "      <td>y</td>\n",
       "      <td>n</td>\n",
       "      <td>f</td>\n",
       "      <td>n</td>\n",
       "      <td>f</td>\n",
       "      <td>c</td>\n",
       "      <td>b</td>\n",
       "      <td>b</td>\n",
       "      <td>...</td>\n",
       "      <td>s</td>\n",
       "      <td>w</td>\n",
       "      <td>w</td>\n",
       "      <td>p</td>\n",
       "      <td>w</td>\n",
       "      <td>o</td>\n",
       "      <td>p</td>\n",
       "      <td>w</td>\n",
       "      <td>v</td>\n",
       "      <td>d</td>\n",
       "    </tr>\n",
       "    <tr>\n",
       "      <th>freq</th>\n",
       "      <td>4208</td>\n",
       "      <td>3656</td>\n",
       "      <td>3244</td>\n",
       "      <td>2284</td>\n",
       "      <td>4748</td>\n",
       "      <td>3528</td>\n",
       "      <td>7914</td>\n",
       "      <td>6812</td>\n",
       "      <td>5612</td>\n",
       "      <td>1728</td>\n",
       "      <td>...</td>\n",
       "      <td>4936</td>\n",
       "      <td>4464</td>\n",
       "      <td>4384</td>\n",
       "      <td>8124</td>\n",
       "      <td>7924</td>\n",
       "      <td>7488</td>\n",
       "      <td>3968</td>\n",
       "      <td>2388</td>\n",
       "      <td>4040</td>\n",
       "      <td>3148</td>\n",
       "    </tr>\n",
       "  </tbody>\n",
       "</table>\n",
       "<p>4 rows × 23 columns</p>\n",
       "</div>"
      ],
      "text/plain": [
       "          0     1     2     3     4     5     6     7     8     9   ...   \\\n",
       "count   8124  8124  8124  8124  8124  8124  8124  8124  8124  8124  ...    \n",
       "unique     2     6     4    10     2     9     2     2     2    12  ...    \n",
       "top        e     x     y     n     f     n     f     c     b     b  ...    \n",
       "freq    4208  3656  3244  2284  4748  3528  7914  6812  5612  1728  ...    \n",
       "\n",
       "          13    14    15    16    17    18    19    20    21    22  \n",
       "count   8124  8124  8124  8124  8124  8124  8124  8124  8124  8124  \n",
       "unique     4     9     9     1     4     3     5     9     6     7  \n",
       "top        s     w     w     p     w     o     p     w     v     d  \n",
       "freq    4936  4464  4384  8124  7924  7488  3968  2388  4040  3148  \n",
       "\n",
       "[4 rows x 23 columns]"
      ]
     },
     "execution_count": 157,
     "metadata": {},
     "output_type": "execute_result"
    }
   ],
   "source": [
    "#A brief description of the data\n",
    "data.describe()"
   ]
  },
  {
   "cell_type": "code",
   "execution_count": 158,
   "metadata": {},
   "outputs": [
    {
     "data": {
      "text/plain": [
       "e    4208\n",
       "p    3916\n",
       "Name: 0, dtype: int64"
      ]
     },
     "execution_count": 158,
     "metadata": {},
     "output_type": "execute_result"
    }
   ],
   "source": [
    "#how many edible and poisonous mushroom\n",
    "data[0].value_counts()"
   ]
  },
  {
   "cell_type": "markdown",
   "metadata": {},
   "source": [
    "## Creation of indicator variables based on your domain knowledge\n",
    "In real life, we can only judge the shape, smell and color of mushrooms directly and simply. And the brighter the colour of the common mushroom, the heavy the odor, the easier it is to carry toxins.\n",
    "\n",
    "Hence，we will choose 'odor', 'stalk-shape','stalk-color-above-ring'and'stalk-color-below-ring' as our indicator variables to classfy a mushroom edible or poisonous"
   ]
  },
  {
   "cell_type": "markdown",
   "metadata": {},
   "source": [
    "## Create a subset pandas DataFrame \n",
    "The subset include the 'class' that indicates edible or poisonous, 'odor', 'stalk-shape','stalk-color-above-ring'and'stalk-color-below-ring'. These attributes will be used to do following steps."
   ]
  },
  {
   "cell_type": "code",
   "execution_count": 159,
   "metadata": {},
   "outputs": [
    {
     "data": {
      "text/html": [
       "<div>\n",
       "<style scoped>\n",
       "    .dataframe tbody tr th:only-of-type {\n",
       "        vertical-align: middle;\n",
       "    }\n",
       "\n",
       "    .dataframe tbody tr th {\n",
       "        vertical-align: top;\n",
       "    }\n",
       "\n",
       "    .dataframe thead th {\n",
       "        text-align: right;\n",
       "    }\n",
       "</style>\n",
       "<table border=\"1\" class=\"dataframe\">\n",
       "  <thead>\n",
       "    <tr style=\"text-align: right;\">\n",
       "      <th></th>\n",
       "      <th>class</th>\n",
       "      <th>odor</th>\n",
       "      <th>stalk-shape</th>\n",
       "      <th>stalk-color-above-ring</th>\n",
       "      <th>stalk-color-below-ring</th>\n",
       "    </tr>\n",
       "  </thead>\n",
       "  <tbody>\n",
       "    <tr>\n",
       "      <th>0</th>\n",
       "      <td>p</td>\n",
       "      <td>p</td>\n",
       "      <td>e</td>\n",
       "      <td>w</td>\n",
       "      <td>w</td>\n",
       "    </tr>\n",
       "    <tr>\n",
       "      <th>1</th>\n",
       "      <td>e</td>\n",
       "      <td>a</td>\n",
       "      <td>e</td>\n",
       "      <td>w</td>\n",
       "      <td>w</td>\n",
       "    </tr>\n",
       "    <tr>\n",
       "      <th>2</th>\n",
       "      <td>e</td>\n",
       "      <td>l</td>\n",
       "      <td>e</td>\n",
       "      <td>w</td>\n",
       "      <td>w</td>\n",
       "    </tr>\n",
       "    <tr>\n",
       "      <th>3</th>\n",
       "      <td>p</td>\n",
       "      <td>p</td>\n",
       "      <td>e</td>\n",
       "      <td>w</td>\n",
       "      <td>w</td>\n",
       "    </tr>\n",
       "    <tr>\n",
       "      <th>4</th>\n",
       "      <td>e</td>\n",
       "      <td>n</td>\n",
       "      <td>t</td>\n",
       "      <td>w</td>\n",
       "      <td>w</td>\n",
       "    </tr>\n",
       "  </tbody>\n",
       "</table>\n",
       "</div>"
      ],
      "text/plain": [
       "  class odor stalk-shape stalk-color-above-ring stalk-color-below-ring\n",
       "0     p    p           e                      w                      w\n",
       "1     e    a           e                      w                      w\n",
       "2     e    l           e                      w                      w\n",
       "3     p    p           e                      w                      w\n",
       "4     e    n           t                      w                      w"
      ]
     },
     "execution_count": 159,
     "metadata": {},
     "output_type": "execute_result"
    }
   ],
   "source": [
    "# Subset choose\n",
    "df=data[[0,5,10,14,15]]\n",
    "df.columns = ['class','odor', 'stalk-shape','stalk-color-above-ring','stalk-color-below-ring']\n",
    "df.head()"
   ]
  },
  {
   "cell_type": "code",
   "execution_count": 160,
   "metadata": {},
   "outputs": [
    {
     "data": {
      "text/plain": [
       "class                     2\n",
       "odor                      9\n",
       "stalk-shape               2\n",
       "stalk-color-above-ring    9\n",
       "stalk-color-below-ring    9\n",
       "dtype: int64"
      ]
     },
     "execution_count": 160,
     "metadata": {},
     "output_type": "execute_result"
    }
   ],
   "source": [
    "#Variables contained in subdata\n",
    "df.nunique()"
   ]
  },
  {
   "cell_type": "markdown",
   "metadata": {},
   "source": [
    "## Perform exploratory data analysis "
   ]
  },
  {
   "cell_type": "code",
   "execution_count": 161,
   "metadata": {},
   "outputs": [
    {
     "data": {
      "text/plain": [
       "<matplotlib.axes._subplots.AxesSubplot at 0x1c20fa8470>"
      ]
     },
     "execution_count": 161,
     "metadata": {},
     "output_type": "execute_result"
    },
    {
     "data": {
      "image/png": "[encoded data removed]",
      "text/plain": [
       "<Figure size 432x288 with 1 Axes>"
      ]
     },
     "metadata": {
      "needs_background": "light"
     },
     "output_type": "display_data"
    }
   ],
   "source": [
    "#Distribution of class data\n",
    "class_ = df['class'].value_counts().plot.bar(title = \"Freq Dist of class\")\n",
    "class_"
   ]
  },
  {
   "cell_type": "code",
   "execution_count": 162,
   "metadata": {},
   "outputs": [
    {
     "data": {
      "text/plain": [
       "<matplotlib.axes._subplots.AxesSubplot at 0x1c2116e240>"
      ]
     },
     "execution_count": 162,
     "metadata": {},
     "output_type": "execute_result"
    },
    {
     "data": {
      "image/png": "[encoded data removed]",
      "text/plain": [
       "<Figure size 432x288 with 1 Axes>"
      ]
     },
     "metadata": {
      "needs_background": "light"
     },
     "output_type": "display_data"
    }
   ],
   "source": [
    "#Distribution of odor data\n",
    "odor = df['odor'].value_counts().plot.bar(title = \"Freq Dist of odor\")\n",
    "odor"
   ]
  },
  {
   "cell_type": "code",
   "execution_count": 163,
   "metadata": {},
   "outputs": [
    {
     "data": {
      "text/plain": [
       "<matplotlib.axes._subplots.AxesSubplot at 0x1c1c815a58>"
      ]
     },
     "execution_count": 163,
     "metadata": {},
     "output_type": "execute_result"
    },
    {
     "data": {
      "image/png": "[encoded data removed]",
      "text/plain": [
       "<Figure size 432x288 with 1 Axes>"
      ]
     },
     "metadata": {
      "needs_background": "light"
     },
     "output_type": "display_data"
    }
   ],
   "source": [
    "#Distribution of stalk-shape data\n",
    "stalkshape = df['stalk-shape'].value_counts().plot.bar(title = \"Freq Dist of stalkshape\")\n",
    "stalkshape"
   ]
  },
  {
   "cell_type": "code",
   "execution_count": 164,
   "metadata": {},
   "outputs": [
    {
     "data": {
      "text/plain": [
       "<matplotlib.axes._subplots.AxesSubplot at 0x1c1f2fb518>"
      ]
     },
     "execution_count": 164,
     "metadata": {},
     "output_type": "execute_result"
    },
    {
     "data": {
      "image/png": "[encoded data removed]",
      "text/plain": [
       "<Figure size 432x288 with 1 Axes>"
      ]
     },
     "metadata": {
      "needs_background": "light"
     },
     "output_type": "display_data"
    }
   ],
   "source": [
    "#Distribution of stalk-color-above-ring data\n",
    "stalk_color_above_ring = df['stalk-color-above-ring'].value_counts().plot.bar(title = \"Freq Dist of stalk_color_above_ring\")\n",
    "stalk_color_above_ring"
   ]
  },
  {
   "cell_type": "code",
   "execution_count": 165,
   "metadata": {},
   "outputs": [
    {
     "data": {
      "text/plain": [
       "<matplotlib.axes._subplots.AxesSubplot at 0x1c1f7215c0>"
      ]
     },
     "execution_count": 165,
     "metadata": {},
     "output_type": "execute_result"
    },
    {
     "data": {
      "image/png": "[encoded data removed]",
      "text/plain": [
       "<Figure size 432x288 with 1 Axes>"
      ]
     },
     "metadata": {
      "needs_background": "light"
     },
     "output_type": "display_data"
    }
   ],
   "source": [
    "#Distribution of stalk-color-below-ring data\n",
    "stalk_color_below_ring = df['stalk-color-below-ring'].value_counts().plot.bar(title = \"Freq Dist of stalk_color_below_ring\")\n",
    "stalk_color_below_ring"
   ]
  },
  {
   "cell_type": "markdown",
   "metadata": {},
   "source": [
    "## Convert the “e”/”p” indicators in the first column and each of others to digits"
   ]
  },
  {
   "cell_type": "markdown",
   "metadata": {},
   "source": [
    "show plots for edible/poisonous vs. odor"
   ]
  },
  {
   "cell_type": "code",
   "execution_count": 166,
   "metadata": {},
   "outputs": [
    {
     "data": {
      "text/html": [
       "<div>\n",
       "<style scoped>\n",
       "    .dataframe tbody tr th:only-of-type {\n",
       "        vertical-align: middle;\n",
       "    }\n",
       "\n",
       "    .dataframe tbody tr th {\n",
       "        vertical-align: top;\n",
       "    }\n",
       "\n",
       "    .dataframe thead th {\n",
       "        text-align: right;\n",
       "    }\n",
       "</style>\n",
       "<table border=\"1\" class=\"dataframe\">\n",
       "  <thead>\n",
       "    <tr style=\"text-align: right;\">\n",
       "      <th></th>\n",
       "      <th></th>\n",
       "      <th>odor_a</th>\n",
       "      <th>odor_c</th>\n",
       "      <th>odor_f</th>\n",
       "      <th>odor_l</th>\n",
       "      <th>odor_m</th>\n",
       "      <th>odor_n</th>\n",
       "      <th>odor_p</th>\n",
       "      <th>odor_s</th>\n",
       "      <th>odor_y</th>\n",
       "    </tr>\n",
       "    <tr>\n",
       "      <th>class_e</th>\n",
       "      <th>class_p</th>\n",
       "      <th></th>\n",
       "      <th></th>\n",
       "      <th></th>\n",
       "      <th></th>\n",
       "      <th></th>\n",
       "      <th></th>\n",
       "      <th></th>\n",
       "      <th></th>\n",
       "      <th></th>\n",
       "    </tr>\n",
       "  </thead>\n",
       "  <tbody>\n",
       "    <tr>\n",
       "      <th>0</th>\n",
       "      <th>1</th>\n",
       "      <td>0.0</td>\n",
       "      <td>192.0</td>\n",
       "      <td>2160.0</td>\n",
       "      <td>0.0</td>\n",
       "      <td>36.0</td>\n",
       "      <td>120.0</td>\n",
       "      <td>256.0</td>\n",
       "      <td>576.0</td>\n",
       "      <td>576.0</td>\n",
       "    </tr>\n",
       "    <tr>\n",
       "      <th>1</th>\n",
       "      <th>0</th>\n",
       "      <td>400.0</td>\n",
       "      <td>0.0</td>\n",
       "      <td>0.0</td>\n",
       "      <td>400.0</td>\n",
       "      <td>0.0</td>\n",
       "      <td>3408.0</td>\n",
       "      <td>0.0</td>\n",
       "      <td>0.0</td>\n",
       "      <td>0.0</td>\n",
       "    </tr>\n",
       "  </tbody>\n",
       "</table>\n",
       "</div>"
      ],
      "text/plain": [
       "                 odor_a  odor_c  odor_f  odor_l  odor_m  odor_n  odor_p  \\\n",
       "class_e class_p                                                           \n",
       "0       1           0.0   192.0  2160.0     0.0    36.0   120.0   256.0   \n",
       "1       0         400.0     0.0     0.0   400.0     0.0  3408.0     0.0   \n",
       "\n",
       "                 odor_s  odor_y  \n",
       "class_e class_p                  \n",
       "0       1         576.0   576.0  \n",
       "1       0           0.0     0.0  "
      ]
     },
     "execution_count": 166,
     "metadata": {},
     "output_type": "execute_result"
    }
   ],
   "source": [
    "#show plots for edible/poisonous vs. odor\n",
    "df1=pd.get_dummies(df[['class','odor']])\n",
    "df1=df1.groupby(['class_e','class_p']).sum()\n",
    "df1"
   ]
  },
  {
   "cell_type": "code",
   "execution_count": 167,
   "metadata": {},
   "outputs": [
    {
     "data": {
      "image/png": "[encoded data removed]",
      "text/plain": [
       "<Figure size 432x288 with 1 Axes>"
      ]
     },
     "metadata": {
      "needs_background": "light"
     },
     "output_type": "display_data"
    }
   ],
   "source": [
    "#input original data \n",
    "class_e=df1.iloc[1]\n",
    "class_p=df1.iloc[0]\n",
    "\n",
    "x =np.arange(len(class_e))# the x locations for the groups\n",
    "width = 0.4# the width of the bars\n",
    " \n",
    "fig, ax = plt.subplots()\n",
    "rects1 = ax.bar(x+width/2, class_e, width, color='gold', label='class_e')\n",
    "\n",
    "rects2 = ax.bar(x-width/2, class_p, width,color='IndianRed', label='class_p')\n",
    "\n",
    "# Add some text for labels, title and custom x-axis tick labels, etc.\n",
    "ax.set_ylabel('value')\n",
    "ax.set_title('class vs. odor')\n",
    "\n",
    "plt.xticks(x,('odor_a','odor_c','odor_f','odor_l','odor_m','odor_n','odor_p','odor_s','odor_y'))\n",
    "ax.legend()\n",
    " \n",
    "plt.show()"
   ]
  },
  {
   "cell_type": "markdown",
   "metadata": {},
   "source": [
    "Here we can see that edible mushroom only have relationship with 'odor_a','odor_l','odor_n'; on the other hand, edible mushroom only have relationship with 'odor_c','odor_f','odor_n','odor_m','odor_p','odor_s','odor_y'"
   ]
  },
  {
   "cell_type": "markdown",
   "metadata": {},
   "source": [
    "show plots for edible/poisonous vs. stalk-shape"
   ]
  },
  {
   "cell_type": "code",
   "execution_count": 168,
   "metadata": {},
   "outputs": [
    {
     "data": {
      "text/html": [
       "<div>\n",
       "<style scoped>\n",
       "    .dataframe tbody tr th:only-of-type {\n",
       "        vertical-align: middle;\n",
       "    }\n",
       "\n",
       "    .dataframe tbody tr th {\n",
       "        vertical-align: top;\n",
       "    }\n",
       "\n",
       "    .dataframe thead th {\n",
       "        text-align: right;\n",
       "    }\n",
       "</style>\n",
       "<table border=\"1\" class=\"dataframe\">\n",
       "  <thead>\n",
       "    <tr style=\"text-align: right;\">\n",
       "      <th></th>\n",
       "      <th></th>\n",
       "      <th>stalk-shape_e</th>\n",
       "      <th>stalk-shape_t</th>\n",
       "    </tr>\n",
       "    <tr>\n",
       "      <th>class_e</th>\n",
       "      <th>class_p</th>\n",
       "      <th></th>\n",
       "      <th></th>\n",
       "    </tr>\n",
       "  </thead>\n",
       "  <tbody>\n",
       "    <tr>\n",
       "      <th>0</th>\n",
       "      <th>1</th>\n",
       "      <td>1900.0</td>\n",
       "      <td>2016.0</td>\n",
       "    </tr>\n",
       "    <tr>\n",
       "      <th>1</th>\n",
       "      <th>0</th>\n",
       "      <td>1616.0</td>\n",
       "      <td>2592.0</td>\n",
       "    </tr>\n",
       "  </tbody>\n",
       "</table>\n",
       "</div>"
      ],
      "text/plain": [
       "                 stalk-shape_e  stalk-shape_t\n",
       "class_e class_p                              \n",
       "0       1               1900.0         2016.0\n",
       "1       0               1616.0         2592.0"
      ]
     },
     "execution_count": 168,
     "metadata": {},
     "output_type": "execute_result"
    }
   ],
   "source": [
    "#show plots for edible/poisonous vs. stalk-shape\n",
    "df2=pd.get_dummies(df[['class','stalk-shape']])\n",
    "df2=df2.groupby(['class_e','class_p']).sum()\n",
    "df2"
   ]
  },
  {
   "cell_type": "code",
   "execution_count": 169,
   "metadata": {},
   "outputs": [
    {
     "data": {
      "image/png": "[encoded data removed]",
      "text/plain": [
       "<Figure size 432x288 with 1 Axes>"
      ]
     },
     "metadata": {
      "needs_background": "light"
     },
     "output_type": "display_data"
    }
   ],
   "source": [
    "#input original data \n",
    "class_e=df2.iloc[1]\n",
    "class_p=df2.iloc[0]\n",
    "\n",
    "x =np.arange(len(class_e))# the x locations for the groups\n",
    "width = 0.4# the width of the bars\n",
    " \n",
    "fig, ax = plt.subplots()\n",
    "rects1 = ax.bar(x+width/2, class_e, width, color='gold', label='class_e')\n",
    "\n",
    "rects2 = ax.bar(x-width/2, class_p, width,color='IndianRed', label='class_p')\n",
    "\n",
    "# Add some text for labels, title and custom x-axis tick labels, etc.\n",
    "ax.set_ylabel('value')\n",
    "ax.set_title('class vs. stalk-shape')\n",
    "\n",
    "plt.xticks(x,('stalk-shape_e','stalk-shape_t'))\n",
    "ax.legend()\n",
    " \n",
    "plt.show()"
   ]
  },
  {
   "cell_type": "markdown",
   "metadata": {},
   "source": [
    "In the 'stalk-shape_e', poisonous mushroom is much more than edible mushroom;In the 'stalk-shape_p', poisonous mushroom is less than edible mushroom;"
   ]
  },
  {
   "cell_type": "markdown",
   "metadata": {},
   "source": [
    "show plots for edible/poisonous vs. stalk-color-above-ring"
   ]
  },
  {
   "cell_type": "code",
   "execution_count": 170,
   "metadata": {},
   "outputs": [
    {
     "data": {
      "text/html": [
       "<div>\n",
       "<style scoped>\n",
       "    .dataframe tbody tr th:only-of-type {\n",
       "        vertical-align: middle;\n",
       "    }\n",
       "\n",
       "    .dataframe tbody tr th {\n",
       "        vertical-align: top;\n",
       "    }\n",
       "\n",
       "    .dataframe thead th {\n",
       "        text-align: right;\n",
       "    }\n",
       "</style>\n",
       "<table border=\"1\" class=\"dataframe\">\n",
       "  <thead>\n",
       "    <tr style=\"text-align: right;\">\n",
       "      <th></th>\n",
       "      <th></th>\n",
       "      <th>stalk-color-above-ring_b</th>\n",
       "      <th>stalk-color-above-ring_c</th>\n",
       "      <th>stalk-color-above-ring_e</th>\n",
       "      <th>stalk-color-above-ring_g</th>\n",
       "      <th>stalk-color-above-ring_n</th>\n",
       "      <th>stalk-color-above-ring_o</th>\n",
       "      <th>stalk-color-above-ring_p</th>\n",
       "      <th>stalk-color-above-ring_w</th>\n",
       "      <th>stalk-color-above-ring_y</th>\n",
       "    </tr>\n",
       "    <tr>\n",
       "      <th>class_e</th>\n",
       "      <th>class_p</th>\n",
       "      <th></th>\n",
       "      <th></th>\n",
       "      <th></th>\n",
       "      <th></th>\n",
       "      <th></th>\n",
       "      <th></th>\n",
       "      <th></th>\n",
       "      <th></th>\n",
       "      <th></th>\n",
       "    </tr>\n",
       "  </thead>\n",
       "  <tbody>\n",
       "    <tr>\n",
       "      <th>0</th>\n",
       "      <th>1</th>\n",
       "      <td>432.0</td>\n",
       "      <td>36.0</td>\n",
       "      <td>0.0</td>\n",
       "      <td>0.0</td>\n",
       "      <td>432.0</td>\n",
       "      <td>0.0</td>\n",
       "      <td>1296.0</td>\n",
       "      <td>1712.0</td>\n",
       "      <td>8.0</td>\n",
       "    </tr>\n",
       "    <tr>\n",
       "      <th>1</th>\n",
       "      <th>0</th>\n",
       "      <td>0.0</td>\n",
       "      <td>0.0</td>\n",
       "      <td>96.0</td>\n",
       "      <td>576.0</td>\n",
       "      <td>16.0</td>\n",
       "      <td>192.0</td>\n",
       "      <td>576.0</td>\n",
       "      <td>2752.0</td>\n",
       "      <td>0.0</td>\n",
       "    </tr>\n",
       "  </tbody>\n",
       "</table>\n",
       "</div>"
      ],
      "text/plain": [
       "                 stalk-color-above-ring_b  stalk-color-above-ring_c  \\\n",
       "class_e class_p                                                       \n",
       "0       1                           432.0                      36.0   \n",
       "1       0                             0.0                       0.0   \n",
       "\n",
       "                 stalk-color-above-ring_e  stalk-color-above-ring_g  \\\n",
       "class_e class_p                                                       \n",
       "0       1                             0.0                       0.0   \n",
       "1       0                            96.0                     576.0   \n",
       "\n",
       "                 stalk-color-above-ring_n  stalk-color-above-ring_o  \\\n",
       "class_e class_p                                                       \n",
       "0       1                           432.0                       0.0   \n",
       "1       0                            16.0                     192.0   \n",
       "\n",
       "                 stalk-color-above-ring_p  stalk-color-above-ring_w  \\\n",
       "class_e class_p                                                       \n",
       "0       1                          1296.0                    1712.0   \n",
       "1       0                           576.0                    2752.0   \n",
       "\n",
       "                 stalk-color-above-ring_y  \n",
       "class_e class_p                            \n",
       "0       1                             8.0  \n",
       "1       0                             0.0  "
      ]
     },
     "execution_count": 170,
     "metadata": {},
     "output_type": "execute_result"
    }
   ],
   "source": [
    "#show plots for edible/poisonous vs. stalk-color-above-ring\n",
    "df3=pd.get_dummies(df[['class','stalk-color-above-ring']])\n",
    "df3=df3.groupby(['class_e','class_p']).sum()\n",
    "df3"
   ]
  },
  {
   "cell_type": "code",
   "execution_count": 171,
   "metadata": {},
   "outputs": [
    {
     "data": {
      "image/png": "[encoded data removed]",
      "text/plain": [
       "<Figure size 432x288 with 1 Axes>"
      ]
     },
     "metadata": {
      "needs_background": "light"
     },
     "output_type": "display_data"
    }
   ],
   "source": [
    "#input original data \n",
    "class_e=df3.iloc[1]\n",
    "class_p=df3.iloc[0]\n",
    "\n",
    "x =np.arange(len(class_e))# the x locations for the groups\n",
    "width = 0.4# the width of the bars\n",
    " \n",
    "fig, ax = plt.subplots()\n",
    "rects1 = ax.bar(x+width/2, class_e, width, color='gold', label='class_e')\n",
    "\n",
    "rects2 = ax.bar(x-width/2, class_p, width,color='IndianRed', label='class_p')\n",
    "\n",
    "# Add some text for labels, title and custom x-axis tick labels, etc.\n",
    "ax.set_ylabel('value')\n",
    "ax.set_title('class vs. stalk-color-above-ring')\n",
    "\n",
    "plt.xticks(x,('b','c','e','g','n','o','p','w','y'))\n",
    "ax.legend()\n",
    " \n",
    "plt.show()"
   ]
  },
  {
   "cell_type": "markdown",
   "metadata": {},
   "source": [
    "From above picture, we can see edible mushroom only have relationship with 'stalk-color-above-ring_e','stalk-color-above-ring_g','stalk-color-above-ring_n','stalk-color-above-ring_o','stalk-color-above-ring_p' and 'stalk-color-above-ring_w'"
   ]
  },
  {
   "cell_type": "markdown",
   "metadata": {},
   "source": [
    "show plots for edible/poisonous vs. stalk-color-below-ring"
   ]
  },
  {
   "cell_type": "code",
   "execution_count": 172,
   "metadata": {},
   "outputs": [
    {
     "data": {
      "text/html": [
       "<div>\n",
       "<style scoped>\n",
       "    .dataframe tbody tr th:only-of-type {\n",
       "        vertical-align: middle;\n",
       "    }\n",
       "\n",
       "    .dataframe tbody tr th {\n",
       "        vertical-align: top;\n",
       "    }\n",
       "\n",
       "    .dataframe thead th {\n",
       "        text-align: right;\n",
       "    }\n",
       "</style>\n",
       "<table border=\"1\" class=\"dataframe\">\n",
       "  <thead>\n",
       "    <tr style=\"text-align: right;\">\n",
       "      <th></th>\n",
       "      <th></th>\n",
       "      <th>stalk-color-below-ring_b</th>\n",
       "      <th>stalk-color-below-ring_c</th>\n",
       "      <th>stalk-color-below-ring_e</th>\n",
       "      <th>stalk-color-below-ring_g</th>\n",
       "      <th>stalk-color-below-ring_n</th>\n",
       "      <th>stalk-color-below-ring_o</th>\n",
       "      <th>stalk-color-below-ring_p</th>\n",
       "      <th>stalk-color-below-ring_w</th>\n",
       "      <th>stalk-color-below-ring_y</th>\n",
       "    </tr>\n",
       "    <tr>\n",
       "      <th>class_e</th>\n",
       "      <th>class_p</th>\n",
       "      <th></th>\n",
       "      <th></th>\n",
       "      <th></th>\n",
       "      <th></th>\n",
       "      <th></th>\n",
       "      <th></th>\n",
       "      <th></th>\n",
       "      <th></th>\n",
       "      <th></th>\n",
       "    </tr>\n",
       "  </thead>\n",
       "  <tbody>\n",
       "    <tr>\n",
       "      <th>0</th>\n",
       "      <th>1</th>\n",
       "      <td>432.0</td>\n",
       "      <td>36.0</td>\n",
       "      <td>0.0</td>\n",
       "      <td>0.0</td>\n",
       "      <td>448.0</td>\n",
       "      <td>0.0</td>\n",
       "      <td>1296.0</td>\n",
       "      <td>1680.0</td>\n",
       "      <td>24.0</td>\n",
       "    </tr>\n",
       "    <tr>\n",
       "      <th>1</th>\n",
       "      <th>0</th>\n",
       "      <td>0.0</td>\n",
       "      <td>0.0</td>\n",
       "      <td>96.0</td>\n",
       "      <td>576.0</td>\n",
       "      <td>64.0</td>\n",
       "      <td>192.0</td>\n",
       "      <td>576.0</td>\n",
       "      <td>2704.0</td>\n",
       "      <td>0.0</td>\n",
       "    </tr>\n",
       "  </tbody>\n",
       "</table>\n",
       "</div>"
      ],
      "text/plain": [
       "                 stalk-color-below-ring_b  stalk-color-below-ring_c  \\\n",
       "class_e class_p                                                       \n",
       "0       1                           432.0                      36.0   \n",
       "1       0                             0.0                       0.0   \n",
       "\n",
       "                 stalk-color-below-ring_e  stalk-color-below-ring_g  \\\n",
       "class_e class_p                                                       \n",
       "0       1                             0.0                       0.0   \n",
       "1       0                            96.0                     576.0   \n",
       "\n",
       "                 stalk-color-below-ring_n  stalk-color-below-ring_o  \\\n",
       "class_e class_p                                                       \n",
       "0       1                           448.0                       0.0   \n",
       "1       0                            64.0                     192.0   \n",
       "\n",
       "                 stalk-color-below-ring_p  stalk-color-below-ring_w  \\\n",
       "class_e class_p                                                       \n",
       "0       1                          1296.0                    1680.0   \n",
       "1       0                           576.0                    2704.0   \n",
       "\n",
       "                 stalk-color-below-ring_y  \n",
       "class_e class_p                            \n",
       "0       1                            24.0  \n",
       "1       0                             0.0  "
      ]
     },
     "execution_count": 172,
     "metadata": {},
     "output_type": "execute_result"
    }
   ],
   "source": [
    "#show plots for edible/poisonous vs. stalk-color-below-ring\n",
    "df4=pd.get_dummies(df[['class','stalk-color-below-ring']])\n",
    "df4=df4.groupby(['class_e','class_p']).sum()\n",
    "df4"
   ]
  },
  {
   "cell_type": "code",
   "execution_count": 173,
   "metadata": {},
   "outputs": [
    {
     "data": {
      "image/png": "[encoded data removed]",
      "text/plain": [
       "<Figure size 432x288 with 1 Axes>"
      ]
     },
     "metadata": {
      "needs_background": "light"
     },
     "output_type": "display_data"
    }
   ],
   "source": [
    "#input original data \n",
    "class_e=df4.iloc[1]\n",
    "class_p=df4.iloc[0]\n",
    "\n",
    "x =np.arange(len(class_e))# the x locations for the groups\n",
    "width = 0.4# the width of the bars\n",
    " \n",
    "fig, ax = plt.subplots()\n",
    "rects1 = ax.bar(x+width/2, class_e, width, color='gold', label='class_e')\n",
    "\n",
    "rects2 = ax.bar(x-width/2, class_p, width,color='IndianRed', label='class_p')\n",
    "\n",
    "# Add some text for labels, title and custom x-axis tick labels, etc.\n",
    "ax.set_ylabel('value')\n",
    "ax.set_title('class vs. stalk-color-below-ring')\n",
    "\n",
    "plt.xticks(x,('b','c','e','g','n','o','p','w','y'))\n",
    "ax.legend()\n",
    " \n",
    "plt.show()"
   ]
  },
  {
   "cell_type": "markdown",
   "metadata": {},
   "source": [
    "From above picture, we can see edible mushroom only have relationship with 'stalk-color-below-ring_e','stalk-color-below-ring_g','stalk-color-below-ring_n','stalk-color-below-ring_o','stalk-color-below-ring_p' and 'stalk-color-below-ring_w'"
   ]
  },
  {
   "cell_type": "markdown",
   "metadata": {},
   "source": [
    "## Problem Statement\n",
    "Use scikit-learn to determine which of the predictor columns that we selected predicts whether or not a mushroom is poisonous. "
   ]
  },
  {
   "cell_type": "code",
   "execution_count": 174,
   "metadata": {},
   "outputs": [
    {
     "data": {
      "text/html": [
       "<div>\n",
       "<style scoped>\n",
       "    .dataframe tbody tr th:only-of-type {\n",
       "        vertical-align: middle;\n",
       "    }\n",
       "\n",
       "    .dataframe tbody tr th {\n",
       "        vertical-align: top;\n",
       "    }\n",
       "\n",
       "    .dataframe thead th {\n",
       "        text-align: right;\n",
       "    }\n",
       "</style>\n",
       "<table border=\"1\" class=\"dataframe\">\n",
       "  <thead>\n",
       "    <tr style=\"text-align: right;\">\n",
       "      <th></th>\n",
       "      <th>class_e</th>\n",
       "      <th>class_p</th>\n",
       "      <th>odor_a</th>\n",
       "      <th>odor_c</th>\n",
       "      <th>odor_f</th>\n",
       "      <th>odor_l</th>\n",
       "      <th>odor_m</th>\n",
       "      <th>odor_n</th>\n",
       "      <th>odor_p</th>\n",
       "      <th>odor_s</th>\n",
       "      <th>...</th>\n",
       "      <th>stalk-color-above-ring_y</th>\n",
       "      <th>stalk-color-below-ring_b</th>\n",
       "      <th>stalk-color-below-ring_c</th>\n",
       "      <th>stalk-color-below-ring_e</th>\n",
       "      <th>stalk-color-below-ring_g</th>\n",
       "      <th>stalk-color-below-ring_n</th>\n",
       "      <th>stalk-color-below-ring_o</th>\n",
       "      <th>stalk-color-below-ring_p</th>\n",
       "      <th>stalk-color-below-ring_w</th>\n",
       "      <th>stalk-color-below-ring_y</th>\n",
       "    </tr>\n",
       "  </thead>\n",
       "  <tbody>\n",
       "    <tr>\n",
       "      <th>0</th>\n",
       "      <td>0</td>\n",
       "      <td>1</td>\n",
       "      <td>0</td>\n",
       "      <td>0</td>\n",
       "      <td>0</td>\n",
       "      <td>0</td>\n",
       "      <td>0</td>\n",
       "      <td>0</td>\n",
       "      <td>1</td>\n",
       "      <td>0</td>\n",
       "      <td>...</td>\n",
       "      <td>0</td>\n",
       "      <td>0</td>\n",
       "      <td>0</td>\n",
       "      <td>0</td>\n",
       "      <td>0</td>\n",
       "      <td>0</td>\n",
       "      <td>0</td>\n",
       "      <td>0</td>\n",
       "      <td>1</td>\n",
       "      <td>0</td>\n",
       "    </tr>\n",
       "    <tr>\n",
       "      <th>1</th>\n",
       "      <td>1</td>\n",
       "      <td>0</td>\n",
       "      <td>1</td>\n",
       "      <td>0</td>\n",
       "      <td>0</td>\n",
       "      <td>0</td>\n",
       "      <td>0</td>\n",
       "      <td>0</td>\n",
       "      <td>0</td>\n",
       "      <td>0</td>\n",
       "      <td>...</td>\n",
       "      <td>0</td>\n",
       "      <td>0</td>\n",
       "      <td>0</td>\n",
       "      <td>0</td>\n",
       "      <td>0</td>\n",
       "      <td>0</td>\n",
       "      <td>0</td>\n",
       "      <td>0</td>\n",
       "      <td>1</td>\n",
       "      <td>0</td>\n",
       "    </tr>\n",
       "    <tr>\n",
       "      <th>2</th>\n",
       "      <td>1</td>\n",
       "      <td>0</td>\n",
       "      <td>0</td>\n",
       "      <td>0</td>\n",
       "      <td>0</td>\n",
       "      <td>1</td>\n",
       "      <td>0</td>\n",
       "      <td>0</td>\n",
       "      <td>0</td>\n",
       "      <td>0</td>\n",
       "      <td>...</td>\n",
       "      <td>0</td>\n",
       "      <td>0</td>\n",
       "      <td>0</td>\n",
       "      <td>0</td>\n",
       "      <td>0</td>\n",
       "      <td>0</td>\n",
       "      <td>0</td>\n",
       "      <td>0</td>\n",
       "      <td>1</td>\n",
       "      <td>0</td>\n",
       "    </tr>\n",
       "    <tr>\n",
       "      <th>3</th>\n",
       "      <td>0</td>\n",
       "      <td>1</td>\n",
       "      <td>0</td>\n",
       "      <td>0</td>\n",
       "      <td>0</td>\n",
       "      <td>0</td>\n",
       "      <td>0</td>\n",
       "      <td>0</td>\n",
       "      <td>1</td>\n",
       "      <td>0</td>\n",
       "      <td>...</td>\n",
       "      <td>0</td>\n",
       "      <td>0</td>\n",
       "      <td>0</td>\n",
       "      <td>0</td>\n",
       "      <td>0</td>\n",
       "      <td>0</td>\n",
       "      <td>0</td>\n",
       "      <td>0</td>\n",
       "      <td>1</td>\n",
       "      <td>0</td>\n",
       "    </tr>\n",
       "    <tr>\n",
       "      <th>4</th>\n",
       "      <td>1</td>\n",
       "      <td>0</td>\n",
       "      <td>0</td>\n",
       "      <td>0</td>\n",
       "      <td>0</td>\n",
       "      <td>0</td>\n",
       "      <td>0</td>\n",
       "      <td>1</td>\n",
       "      <td>0</td>\n",
       "      <td>0</td>\n",
       "      <td>...</td>\n",
       "      <td>0</td>\n",
       "      <td>0</td>\n",
       "      <td>0</td>\n",
       "      <td>0</td>\n",
       "      <td>0</td>\n",
       "      <td>0</td>\n",
       "      <td>0</td>\n",
       "      <td>0</td>\n",
       "      <td>1</td>\n",
       "      <td>0</td>\n",
       "    </tr>\n",
       "  </tbody>\n",
       "</table>\n",
       "<p>5 rows × 31 columns</p>\n",
       "</div>"
      ],
      "text/plain": [
       "   class_e  class_p  odor_a  odor_c  odor_f  odor_l  odor_m  odor_n  odor_p  \\\n",
       "0        0        1       0       0       0       0       0       0       1   \n",
       "1        1        0       1       0       0       0       0       0       0   \n",
       "2        1        0       0       0       0       1       0       0       0   \n",
       "3        0        1       0       0       0       0       0       0       1   \n",
       "4        1        0       0       0       0       0       0       1       0   \n",
       "\n",
       "   odor_s            ...             stalk-color-above-ring_y  \\\n",
       "0       0            ...                                    0   \n",
       "1       0            ...                                    0   \n",
       "2       0            ...                                    0   \n",
       "3       0            ...                                    0   \n",
       "4       0            ...                                    0   \n",
       "\n",
       "   stalk-color-below-ring_b  stalk-color-below-ring_c  \\\n",
       "0                         0                         0   \n",
       "1                         0                         0   \n",
       "2                         0                         0   \n",
       "3                         0                         0   \n",
       "4                         0                         0   \n",
       "\n",
       "   stalk-color-below-ring_e  stalk-color-below-ring_g  \\\n",
       "0                         0                         0   \n",
       "1                         0                         0   \n",
       "2                         0                         0   \n",
       "3                         0                         0   \n",
       "4                         0                         0   \n",
       "\n",
       "   stalk-color-below-ring_n  stalk-color-below-ring_o  \\\n",
       "0                         0                         0   \n",
       "1                         0                         0   \n",
       "2                         0                         0   \n",
       "3                         0                         0   \n",
       "4                         0                         0   \n",
       "\n",
       "   stalk-color-below-ring_p  stalk-color-below-ring_w  \\\n",
       "0                         0                         1   \n",
       "1                         0                         1   \n",
       "2                         0                         1   \n",
       "3                         0                         1   \n",
       "4                         0                         1   \n",
       "\n",
       "   stalk-color-below-ring_y  \n",
       "0                         0  \n",
       "1                         0  \n",
       "2                         0  \n",
       "3                         0  \n",
       "4                         0  \n",
       "\n",
       "[5 rows x 31 columns]"
      ]
     },
     "execution_count": 174,
     "metadata": {},
     "output_type": "execute_result"
    }
   ],
   "source": [
    "#Convert variables to digits\n",
    "df=pd.get_dummies(df)\n",
    "df.head()"
   ]
  },
  {
   "cell_type": "code",
   "execution_count": 175,
   "metadata": {},
   "outputs": [
    {
     "name": "stderr",
     "output_type": "stream",
     "text": [
      "/anaconda3/lib/python3.7/site-packages/sklearn/linear_model/logistic.py:433: FutureWarning: Default solver will be changed to 'lbfgs' in 0.22. Specify a solver to silence this warning.\n",
      "  FutureWarning)\n"
     ]
    },
    {
     "data": {
      "text/plain": [
       "0.9881831610044313"
      ]
     },
     "execution_count": 175,
     "metadata": {},
     "output_type": "execute_result"
    }
   ],
   "source": [
    "from sklearn.linear_model import LinearRegression\n",
    "from sklearn.linear_model import LogisticRegression\n",
    "from sklearn import metrics\n",
    "# create X and y\n",
    "class_e_cols = ['odor_c','odor_f','odor_n','odor_m','odor_p','odor_s','odor_y', 'stalk-shape_e','stalk-shape_t',\n",
    "                'stalk-color-below-ring_e','stalk-color-below-ring_g','stalk-color-below-ring_n','stalk-color-below-ring_o',\n",
    "                'stalk-color-below-ring_p' ,'stalk-color-below-ring_w', 'stalk-color-above-ring_e',\n",
    "                'stalk-color-above-ring_g','stalk-color-above-ring_n','stalk-color-above-ring_o',\n",
    "                'stalk-color-above-ring_p' ,'stalk-color-above-ring_w'\n",
    "              ]\n",
    "X = df[class_e_cols]\n",
    "y = df.class_e\n",
    "\n",
    "# instantiate a logistic regression model, and fit with X and y\n",
    "model = LogisticRegression()\n",
    "model = model.fit(X, y)\n",
    "\n",
    "# check the accuracy on the set\n",
    "model.score(X, y)\n"
   ]
  },
  {
   "cell_type": "code",
   "execution_count": 176,
   "metadata": {},
   "outputs": [
    {
     "data": {
      "text/plain": [
       "0.517971442639094"
      ]
     },
     "execution_count": 176,
     "metadata": {},
     "output_type": "execute_result"
    }
   ],
   "source": [
    "y.mean()"
   ]
  },
  {
   "cell_type": "code",
   "execution_count": 177,
   "metadata": {},
   "outputs": [
    {
     "name": "stdout",
     "output_type": "stream",
     "text": [
      "[0 1 1 ... 1 0 1]\n"
     ]
    }
   ],
   "source": [
    "# predict class labels for the set\n",
    "predicted = model.predict(X)\n",
    "print (predicted)"
   ]
  },
  {
   "cell_type": "code",
   "execution_count": 178,
   "metadata": {},
   "outputs": [
    {
     "name": "stdout",
     "output_type": "stream",
     "text": [
      "[[0.97503219 0.02496781]\n",
      " [0.06044862 0.93955138]\n",
      " [0.06044862 0.93955138]\n",
      " ...\n",
      " [0.01231208 0.98768792]\n",
      " [0.97740181 0.02259819]\n",
      " [0.01231208 0.98768792]]\n"
     ]
    }
   ],
   "source": [
    "# generate class probabilities\n",
    "probs = model.predict_proba(X)\n",
    "print (probs)"
   ]
  },
  {
   "cell_type": "markdown",
   "metadata": {},
   "source": [
    "As you can see, the classifier is predicting a 1 (edible) any time the probability in the second column is greater than 0.9.\n",
    "\n",
    "Now let's generate some evaluation metrics."
   ]
  },
  {
   "cell_type": "code",
   "execution_count": 179,
   "metadata": {},
   "outputs": [
    {
     "name": "stdout",
     "output_type": "stream",
     "text": [
      "0.9881831610044313\n",
      "0.998423160126924\n"
     ]
    }
   ],
   "source": [
    "# generate evaluation metrics\n",
    "print (metrics.accuracy_score(y, predicted))\n",
    "print (metrics.roc_auc_score(y, probs[:, 1]))"
   ]
  },
  {
   "cell_type": "code",
   "execution_count": 180,
   "metadata": {},
   "outputs": [
    {
     "name": "stdout",
     "output_type": "stream",
     "text": [
      "[[3820   96]\n",
      " [   0 4208]]\n",
      "              precision    recall  f1-score   support\n",
      "\n",
      "           0       1.00      0.98      0.99      3916\n",
      "           1       0.98      1.00      0.99      4208\n",
      "\n",
      "   micro avg       0.99      0.99      0.99      8124\n",
      "   macro avg       0.99      0.99      0.99      8124\n",
      "weighted avg       0.99      0.99      0.99      8124\n",
      "\n"
     ]
    }
   ],
   "source": [
    "print (metrics.confusion_matrix(y, predicted))\n",
    "print (metrics.classification_report(y, predicted))"
   ]
  },
  {
   "cell_type": "markdown",
   "metadata": {},
   "source": [
    "## conclusion\n",
    " From the above analysis, we can see that our regression error is less than 2%. That is to say, we have 98% confidence that if the mushroom smells almond,anise or none and its color is brown，gray,orange,pink,red or white then it is edible."
   ]
  },
  {
   "cell_type": "code",
   "execution_count": 181,
   "metadata": {},
   "outputs": [
    {
     "name": "stderr",
     "output_type": "stream",
     "text": [
      "/anaconda3/lib/python3.7/site-packages/sklearn/linear_model/logistic.py:433: FutureWarning: Default solver will be changed to 'lbfgs' in 0.22. Specify a solver to silence this warning.\n",
      "  FutureWarning)\n"
     ]
    },
    {
     "data": {
      "text/plain": [
       "0.9881831610044313"
      ]
     },
     "execution_count": 181,
     "metadata": {},
     "output_type": "execute_result"
    }
   ],
   "source": [
    "# create A and b\n",
    "class_p_cols = ['odor_c','odor_f','odor_m','odor_n','odor_p','odor_s','odor_y', \n",
    "                'stalk-shape_e','stalk-shape_t','stalk-color-below-ring_b',\n",
    "                'stalk-color-below-ring_c','stalk-color-below-ring_n','stalk-color-below-ring_p',\n",
    "                'stalk-color-below-ring_w' ,'stalk-color-below-ring_y', 'stalk-color-above-ring_b',\n",
    "                'stalk-color-above-ring_c','stalk-color-above-ring_n','stalk-color-above-ring_p',\n",
    "                'stalk-color-above-ring_w' ,'stalk-color-above-ring_y']\n",
    "A = df[class_p_cols]\n",
    "b = df.class_p\n",
    "\n",
    "# instantiate a logistic regression model, and fit with A and b\n",
    "model = LogisticRegression()\n",
    "model = model.fit(A, b)\n",
    "\n",
    "# check the accuracy on the set\n",
    "model.score(A, b)\n",
    "\n"
   ]
  },
  {
   "cell_type": "code",
   "execution_count": 182,
   "metadata": {},
   "outputs": [
    {
     "data": {
      "text/plain": [
       "0.48202855736090594"
      ]
     },
     "execution_count": 182,
     "metadata": {},
     "output_type": "execute_result"
    }
   ],
   "source": [
    "b.mean()"
   ]
  },
  {
   "cell_type": "code",
   "execution_count": 183,
   "metadata": {},
   "outputs": [
    {
     "name": "stdout",
     "output_type": "stream",
     "text": [
      "[1 0 0 ... 0 1 0]\n"
     ]
    }
   ],
   "source": [
    "# predict class labels for the set\n",
    "predicted = model.predict(A)\n",
    "print (predicted)"
   ]
  },
  {
   "cell_type": "code",
   "execution_count": 184,
   "metadata": {},
   "outputs": [
    {
     "name": "stdout",
     "output_type": "stream",
     "text": [
      "[[0.02489778 0.97510222]\n",
      " [0.9372696  0.0627304 ]\n",
      " [0.9372696  0.0627304 ]\n",
      " ...\n",
      " [0.976772   0.023228  ]\n",
      " [0.02021918 0.97978082]\n",
      " [0.976772   0.023228  ]]\n"
     ]
    }
   ],
   "source": [
    "# generate class probabilities\n",
    "probsA = model.predict_proba(A)\n",
    "print (probsA)"
   ]
  },
  {
   "cell_type": "markdown",
   "metadata": {},
   "source": [
    "As you can see, the classifier is predicting a 1 (poisonous) any time the probability in the second column is greater than 0.9.\n",
    "\n",
    "Now let's generate some evaluation metrics."
   ]
  },
  {
   "cell_type": "code",
   "execution_count": 185,
   "metadata": {},
   "outputs": [
    {
     "name": "stdout",
     "output_type": "stream",
     "text": [
      "0.9881831610044313\n",
      "0.0015768398730760412\n"
     ]
    }
   ],
   "source": [
    "# generate evaluation metrics\n",
    "print (metrics.accuracy_score(b, predicted))\n",
    "print (metrics.roc_auc_score(b, probs[:, 1]))"
   ]
  },
  {
   "cell_type": "code",
   "execution_count": 186,
   "metadata": {},
   "outputs": [
    {
     "name": "stdout",
     "output_type": "stream",
     "text": [
      "[[4208    0]\n",
      " [  96 3820]]\n",
      "              precision    recall  f1-score   support\n",
      "\n",
      "           0       0.98      1.00      0.99      4208\n",
      "           1       1.00      0.98      0.99      3916\n",
      "\n",
      "   micro avg       0.99      0.99      0.99      8124\n",
      "   macro avg       0.99      0.99      0.99      8124\n",
      "weighted avg       0.99      0.99      0.99      8124\n",
      "\n"
     ]
    }
   ],
   "source": [
    "print (metrics.confusion_matrix(b, predicted))\n",
    "print (metrics.classification_report(b, predicted))"
   ]
  },
  {
   "cell_type": "markdown",
   "metadata": {},
   "source": [
    "## conclusion\n",
    "From the above analysis, we can see that our regression error is less than 2%. That is to say, we have 98% confidence that if the mushroom smells creosote,fishy,foul, musty,none,pungent or spicy and its color is brown,buff,cinnamon, pink,white or yellow then it is poisonous."
   ]
  },
  {
   "cell_type": "code",
   "execution_count": null,
   "metadata": {},
   "outputs": [],
   "source": []
  },
  {
   "cell_type": "code",
   "execution_count": null,
   "metadata": {},
   "outputs": [],
   "source": []
  }
 ],
 "metadata": {
  "kernelspec": {
   "display_name": "Python 3",
   "language": "python",
   "name": "python3"
  },
  "language_info": {
   "codemirror_mode": {
    "name": "ipython",
    "version": 3
   },
   "file_extension": ".py",
   "mimetype": "text/x-python",
   "name": "python",
   "nbconvert_exporter": "python",
   "pygments_lexer": "ipython3",
   "version": "3.7.1"
  }
 },
 "nbformat": 4,
 "nbformat_minor": 2
}
