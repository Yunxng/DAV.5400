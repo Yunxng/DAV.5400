{
 "cells": [
  {
   "cell_type": "code",
   "execution_count": 175,
   "metadata": {},
   "outputs": [],
   "source": [
    "# load the re module\n",
    "import re\n",
    "import pandas as pd\n",
    "# input initial text\n",
    "text = \"555-1239Moe Szyslak(636) 555-0113Burns, C. Montgomery555 -6542Rev. Timothy Lovejoy555 8904Ned Flanders636-555-3226Simpson, Homer5553642Dr. Julius Hibbert\""
   ]
  },
  {
   "cell_type": "markdown",
   "metadata": {},
   "source": [
    "1. Extract the names of each individual from the unformatted text string and store them in a vector of some sort."
   ]
  },
  {
   "cell_type": "code",
   "execution_count": 176,
   "metadata": {},
   "outputs": [
    {
     "data": {
      "text/plain": [
       "['Moe Szyslak',\n",
       " 'Burns, C. Montgomery',\n",
       " 'Rev. Timothy Lovejoy',\n",
       " 'Ned Flanders',\n",
       " 'Simpson, Homer',\n",
       " 'Dr. Julius Hibbert']"
      ]
     },
     "execution_count": 176,
     "metadata": {},
     "output_type": "execute_result"
    }
   ],
   "source": [
    "#Set a pattern that cotains all kind of form of name\n",
    "pattern = re.compile('[A-Z]+[a-z]+. [A-Z]+[a-z]+ [A-Z]+[a-z]+|[A-Z]+[a-z]+ [A-Z]+[a-z]+|[A-Z]+[a-z]+, [A-Z]+[a-z]+|[A-Z]+[a-z]+, [A-Z]\\\\. [A-Z]+[a-z]+')\n",
    "#Find all names in the text \n",
    "name=pattern.findall(text)\n",
    "name"
   ]
  },
  {
   "cell_type": "markdown",
   "metadata": {},
   "source": [
    "2.a. Use your regex skills to rearrange the vector so that all elements conform to the standard \"firstname lastname”, preserving any titles (e.g., “Rev.”, “Dr.”, etc) or middle/second names."
   ]
  },
  {
   "cell_type": "code",
   "execution_count": 197,
   "metadata": {},
   "outputs": [
    {
     "name": "stdout",
     "output_type": "stream",
     "text": [
      "Moe Szyslak\n",
      "C. Montgomery Burns\n",
      "Rev. Timothy Lovejoy\n",
      "Ned Flanders\n",
      "Homer Simpson\n",
      "Dr. Julius Hibbert\n"
     ]
    }
   ],
   "source": [
    "#Set a norm that canbe used into find Title or middle name\n",
    "pattern1='[A-Z][A-z.|,| ]+'\n",
    "for n in re.findall(pattern1,text):\n",
    "#Change the order of middle name to the first\n",
    "    print(' '.join(n.split(', ')[::-1])) "
   ]
  },
  {
   "cell_type": "markdown",
   "metadata": {},
   "source": [
    "2.b. Construct a logical vector indicating whether a character has a title (i.e., Rev. and Dr.). "
   ]
  },
  {
   "cell_type": "code",
   "execution_count": 206,
   "metadata": {},
   "outputs": [
    {
     "name": "stdout",
     "output_type": "stream",
     "text": [
      "0        []\n",
      "1        []\n",
      "2    [Rev.]\n",
      "3        []\n",
      "4        []\n",
      "5     [Dr.]\n",
      "dtype: object\n"
     ]
    },
    {
     "data": {
      "text/plain": [
       "0    False\n",
       "1    False\n",
       "2     True\n",
       "3    False\n",
       "4    False\n",
       "5     True\n",
       "dtype: bool"
      ]
     },
     "execution_count": 206,
     "metadata": {},
     "output_type": "execute_result"
    }
   ],
   "source": [
    "#Set a norm that representtitle\n",
    "pattern2=r'[A-Z]+[a-z]+[.]+'\n",
    "#find the title name and print it\n",
    "title=name.str.findall(pattern2, flags=re.IGNORECASE)\n",
    "print(title)\n",
    "#Use 'Str.contains' to set a boolean to show the title\n",
    "title_bool=name.str.contains(pattern2)\n",
    "title_bool"
   ]
  },
  {
   "cell_type": "markdown",
   "metadata": {},
   "source": [
    "2.c. Construct a logical vector indicating whether a character has a middle/second name."
   ]
  },
  {
   "cell_type": "code",
   "execution_count": 194,
   "metadata": {},
   "outputs": [
    {
     "data": {
      "text/plain": [
       "0    False\n",
       "1     True\n",
       "2    False\n",
       "3    False\n",
       "4    False\n",
       "5    False\n",
       "dtype: bool"
      ]
     },
     "execution_count": 194,
     "metadata": {},
     "output_type": "execute_result"
    }
   ],
   "source": [
    "#Set a norm that representtitle\n",
    "pattern3=r'[A-Z]+[.]+'\n",
    "#Use 'Str.contains' to set a boolean to show the middle name\n",
    "middle_bool=name.str.contains(pattern3)\n",
    "middle_bool"
   ]
  },
  {
   "cell_type": "markdown",
   "metadata": {},
   "source": [
    "3.Consider the HTML string. We would like to extract the first HTML tag. To do so we write the regular expression “<.+>”. Explain why this fails and correct the expression."
   ]
  },
  {
   "cell_type": "code",
   "execution_count": 191,
   "metadata": {},
   "outputs": [
    {
     "data": {
      "text/plain": [
       "['<title>+++BREAKING NEWS+++<title>']"
      ]
     },
     "execution_count": 191,
     "metadata": {},
     "output_type": "execute_result"
    }
   ],
   "source": [
    "#Wrong way to solve the question\n",
    "string_1='<title>+++BREAKING NEWS+++<title>.'\n",
    "pattern4=re.compile('<.+>')\n",
    "pattern4.findall(string_1)\n"
   ]
  },
  {
   "cell_type": "code",
   "execution_count": 30,
   "metadata": {},
   "outputs": [
    {
     "data": {
      "text/plain": [
       "['<title>']"
      ]
     },
     "execution_count": 30,
     "metadata": {},
     "output_type": "execute_result"
    }
   ],
   "source": [
    "#Correct way \n",
    "# Set a pattern that only contains first \">\"\n",
    "pattern5=re.compile('^[^>]*\\>')\n",
    "pattern5.findall(string_1)"
   ]
  },
  {
   "cell_type": "markdown",
   "metadata": {},
   "source": [
    "The solution is wrong, because the regex cntains first '<' and last '>'. That is why the output shows original string."
   ]
  },
  {
   "cell_type": "markdown",
   "metadata": {},
   "source": [
    "4. Consider the string “(5-3)^2=5^2-2*5*3+3^2” conforms to the binomial theorem. We would like to extract the formula in the string. To do so we write the regular expression “[^0-9=+*()]+”. Explain why this fails and correct the expression."
   ]
  },
  {
   "cell_type": "code",
   "execution_count": 39,
   "metadata": {},
   "outputs": [
    {
     "data": {
      "text/plain": [
       "['-', '^', '^', '-', '^']"
      ]
     },
     "execution_count": 39,
     "metadata": {},
     "output_type": "execute_result"
    }
   ],
   "source": [
    "#Wrong way to solve the question\n",
    "string_2='(5-3)^2=5^2-2*5*3+3^2'\n",
    "pattern6=re.compile('[^0-9=+*()]+')\n",
    "pattern6.findall(string_2)"
   ]
  },
  {
   "cell_type": "code",
   "execution_count": 78,
   "metadata": {},
   "outputs": [
    {
     "data": {
      "text/plain": [
       "'(5-3)^2=5^2-2*5*3+3^2'"
      ]
     },
     "execution_count": 78,
     "metadata": {},
     "output_type": "execute_result"
    }
   ],
   "source": [
    "#Correct way \n",
    "pattern7='([^A-z]|\\\\^)+'\n",
    "re.match(pattern7,string_2).group()"
   ]
  },
  {
   "cell_type": "markdown",
   "metadata": {},
   "source": [
    "Many of the characters in the formula. are also reserved characters of regular expressions. Rather than trying to literally name each operand of the formula and all digits, we can simply exclude alpha characters."
   ]
  }
 ],
 "metadata": {
  "kernelspec": {
   "display_name": "Python 3",
   "language": "python",
   "name": "python3"
  },
  "language_info": {
   "codemirror_mode": {
    "name": "ipython",
    "version": 3
   },
   "file_extension": ".py",
   "mimetype": "text/x-python",
   "name": "python",
   "nbconvert_exporter": "python",
   "pygments_lexer": "ipython3",
   "version": "3.7.1"
  }
 },
 "nbformat": 4,
 "nbformat_minor": 2
}
